{
 "cells": [
  {
   "cell_type": "code",
   "execution_count": 11,
   "metadata": {},
   "outputs": [],
   "source": [
    "import json\n",
    "import numpy as np"
   ]
  },
  {
   "cell_type": "code",
   "execution_count": 38,
   "metadata": {},
   "outputs": [],
   "source": [
    "with open('ans6x10p.txt','r') as f:\n",
    "    a = f.read()\n",
    "b = np.array(json.loads(a))"
   ]
  },
  {
   "cell_type": "code",
   "execution_count": 39,
   "metadata": {},
   "outputs": [
    {
     "data": {
      "text/plain": [
       "9356"
      ]
     },
     "execution_count": 39,
     "metadata": {},
     "output_type": "execute_result"
    }
   ],
   "source": [
    "len(b)"
   ]
  },
  {
   "cell_type": "code",
   "execution_count": 40,
   "metadata": {},
   "outputs": [],
   "source": [
    "pos = np.array([2,1,4,2,2,2,3,4,5,3,2,1])"
   ]
  },
  {
   "cell_type": "code",
   "execution_count": 41,
   "metadata": {},
   "outputs": [
    {
     "data": {
      "text/plain": [
       "[array([[12,  1,  3,  1],\n",
       "        [ 5,  2,  2,  0],\n",
       "        [ 6,  2,  3,  3],\n",
       "        [ 4,  2,  3,  5],\n",
       "        [ 2,  1,  2,  1],\n",
       "        [ 1,  2,  0,  0],\n",
       "        [11,  2,  0,  2],\n",
       "        [ 9,  5,  1,  3],\n",
       "        [ 8,  4,  1,  5],\n",
       "        [ 3,  4,  0,  7],\n",
       "        [ 7,  3,  3,  7],\n",
       "        [10,  3,  1,  8]])]"
      ]
     },
     "execution_count": 41,
     "metadata": {},
     "output_type": "execute_result"
    }
   ],
   "source": [
    "[x for x in b if (x[:,1]==pos[x[:,0]-1]).all()]"
   ]
  },
  {
   "cell_type": "code",
   "execution_count": 42,
   "metadata": {},
   "outputs": [
    {
     "data": {
      "text/plain": [
       "9356"
      ]
     },
     "execution_count": 42,
     "metadata": {},
     "output_type": "execute_result"
    }
   ],
   "source": [
    "len([''.join(x[x[:,0]-1,1].astype(str)) for x in b])"
   ]
  },
  {
   "cell_type": "code",
   "execution_count": 43,
   "metadata": {},
   "outputs": [],
   "source": [
    "direction,dircount = np.unique([''.join(x[x[:,0]-1,1].astype(str)) for x in b],return_counts=True)"
   ]
  },
  {
   "cell_type": "code",
   "execution_count": 44,
   "metadata": {},
   "outputs": [
    {
     "data": {
      "text/plain": [
       "(array([1, 2]), array([9264,   46]))"
      ]
     },
     "execution_count": 44,
     "metadata": {},
     "output_type": "execute_result"
    }
   ],
   "source": [
    "np.unique(dircount,return_counts=True)"
   ]
  },
  {
   "cell_type": "code",
   "execution_count": 45,
   "metadata": {},
   "outputs": [
    {
     "data": {
      "text/plain": [
       "67108864"
      ]
     },
     "execution_count": 45,
     "metadata": {},
     "output_type": "execute_result"
    }
   ],
   "source": [
    "# PUVT LFWZ YNIX\n",
    "np.prod([8,4,4,4,8,8,4,4,8,8,2,1])"
   ]
  },
  {
   "cell_type": "code",
   "execution_count": 46,
   "metadata": {},
   "outputs": [],
   "source": [
    "smr = [[[[1, 1], [1, 2], [1, 3], [2, 1], [2, 2]], [[1, 1], [1, 2], [2, \n",
    "    1], [2, 2], [2, 3]], [[1, 2], [1, 3], [2, 1], [2, 2], [2, \n",
    "    3]], [[1, 1], [1, 2], [1, 3], [2, 2], [2, 3]], [[1, 1], [1, \n",
    "    2], [2, 1], [2, 2], [3, 1]], [[1, 1], [1, 2], [2, 1], [2, 2], [3, \n",
    "    2]], [[1, 2], [2, 1], [2, 2], [3, 1], [3, 2]], [[1, 1], [2, \n",
    "    1], [2, 2], [3, 1], [3, 2]]], [[[1, 1], [1, 2], [1, 3], [2, \n",
    "    1], [2, 3]], [[1, 1], [1, 3], [2, 1], [2, 2], [2, 3]], [[1, \n",
    "    1], [1, 2], [2, 1], [3, 1], [3, 2]], [[1, 1], [1, 2], [2, 2], [3, \n",
    "    1], [3, 2]]], [[[1, 1], [1, 2], [1, 3], [2, 1], [3, 1]], [[1, \n",
    "    1], [2, 1], [3, 1], [3, 2], [3, 3]], [[1, 3], [2, 3], [3, 1], [3, \n",
    "    2], [3, 3]], [[1, 1], [1, 2], [1, 3], [2, 3], [3, 3]]], [[[1, \n",
    "    1], [1, 2], [1, 3], [2, 2], [3, 2]], [[1, 2], [2, 2], [3, 1], [3, \n",
    "    2], [3, 3]], [[1, 1], [2, 1], [2, 2], [2, 3], [3, 1]], [[1, \n",
    "    3], [2, 1], [2, 2], [2, 3], [3, 3]]], [[[1, 1], [1, 2], [2, \n",
    "    1], [3, 1], [4, 1]], [[1, 1], [2, 1], [3, 1], [4, 1], [4, \n",
    "    2]], [[1, 2], [2, 2], [3, 2], [4, 1], [4, 2]], [[1, 1], [1, \n",
    "    2], [2, 2], [3, 2], [4, 2]], [[1, 1], [1, 2], [1, 3], [1, 4], [2, \n",
    "    1]], [[1, 1], [1, 2], [1, 3], [1, 4], [2, 4]], [[1, 4], [2, \n",
    "    1], [2, 2], [2, 3], [2, 4]], [[1, 1], [2, 1], [2, 2], [2, 3], [2, \n",
    "    4]]], [[[1, 1], [1, 2], [2, 2], [2, 3], [3, 2]], [[1, 2], [2, \n",
    "    2], [2, 3], [3, 1], [3, 2]], [[1, 2], [2, 1], [2, 2], [3, 2], [3, \n",
    "    3]], [[1, 2], [1, 3], [2, 1], [2, 2], [3, 2]], [[1, 1], [2, \n",
    "    1], [2, 2], [2, 3], [3, 2]], [[1, 3], [2, 1], [2, 2], [2, 3], [3, \n",
    "    2]], [[1, 2], [2, 1], [2, 2], [2, 3], [3, 3]], [[1, 2], [2, \n",
    "    1], [2, 2], [2, 3], [3, 1]]], [[[1, 1], [1, 2], [2, 2], [2, \n",
    "    3], [3, 3]], [[1, 3], [2, 2], [2, 3], [3, 1], [3, 2]], [[1, \n",
    "    1], [2, 1], [2, 2], [3, 2], [3, 3]], [[1, 2], [1, 3], [2, 1], [2, \n",
    "    2], [3, 1]]], [[[1, 1], [1, 2], [2, 2], [3, 2], [3, 3]], [[1, \n",
    "    2], [1, 3], [2, 2], [3, 1], [3, 2]], [[1, 1], [2, 1], [2, 2], [2, \n",
    "    3], [3, 3]], [[1, 3], [2, 1], [2, 2], [2, 3], [3, 1]]], [[[1, \n",
    "    1], [2, 1], [2, 2], [3, 1], [4, 1]], [[1, 1], [2, 1], [3, 1], [3, \n",
    "    2], [4, 1]], [[1, 2], [2, 2], [3, 1], [3, 2], [4, 2]], [[1, \n",
    "    2], [2, 1], [2, 2], [3, 2], [4, 2]], [[1, 1], [1, 2], [1, 3], [1, \n",
    "    4], [2, 2]], [[1, 1], [1, 2], [1, 3], [1, 4], [2, 3]], [[1, \n",
    "    3], [2, 1], [2, 2], [2, 3], [2, 4]], [[1, 2], [2, 1], [2, 2], [2, \n",
    "    3], [2, 4]]], [[[1, 1], [2, 1], [2, 2], [3, 2], [4, 2]], [[1, \n",
    "    2], [2, 2], [3, 1], [3, 2], [4, 1]], [[1, 1], [2, 1], [3, 1], [3, \n",
    "    2], [4, 2]], [[1, 2], [2, 1], [2, 2], [3, 1], [4, 1]], [[1, \n",
    "    1], [1, 2], [2, 2], [2, 3], [2, 4]], [[1, 3], [1, 4], [2, 1], [2, \n",
    "    2], [2, 3]], [[1, 1], [1, 2], [1, 3], [2, 3], [2, 4]], [[1, \n",
    "    2], [1, 3], [1, 4], [2, 1], [2, 2]]], [[[1, 1], [2, 1], [3, \n",
    "    1], [4, 1], [5, 1]], [[1, 1], [1, 2], [1, 3], [1, 4], [1, \n",
    "    5]]], [[[1, 2], [2, 1], [2, 2], [2, 3], [3, 2]]]]"
   ]
  },
  {
   "cell_type": "code",
   "execution_count": 59,
   "metadata": {},
   "outputs": [],
   "source": [
    "def get_solution(sol,smr):\n",
    "    plane = np.zeros((6,10))\n",
    "#     print(sol)\n",
    "    for s in sol:\n",
    "        shape = smr[s[0]-1][s[1]-1]\n",
    "        for s2 in shape:\n",
    "            plane[s[2]+s2[0]-1,s[3]+s2[1]] = s[0]\n",
    "    return plane\n",
    "        "
   ]
  },
  {
   "cell_type": "code",
   "execution_count": 60,
   "metadata": {},
   "outputs": [
    {
     "data": {
      "text/plain": [
       "array([[12,  1,  0,  1],\n",
       "       [ 2,  3,  0,  0],\n",
       "       [ 1,  4,  0,  3],\n",
       "       [ 3,  1,  3,  0],\n",
       "       [ 5,  8,  4,  1],\n",
       "       [ 8,  2,  2,  2],\n",
       "       [11,  1,  0,  9],\n",
       "       [ 9,  7,  4,  6],\n",
       "       [ 4,  1,  0,  6],\n",
       "       [10,  2,  1,  7],\n",
       "       [ 7,  2,  1,  4],\n",
       "       [ 6,  6,  3,  4]])"
      ]
     },
     "execution_count": 60,
     "metadata": {},
     "output_type": "execute_result"
    }
   ],
   "source": [
    "b[0]"
   ]
  },
  {
   "cell_type": "code",
   "execution_count": 61,
   "metadata": {},
   "outputs": [
    {
     "ename": "IndexError",
     "evalue": "index 10 is out of bounds for axis 1 with size 10",
     "output_type": "error",
     "traceback": [
      "\u001b[0;31m---------------------------------------------------------------------------\u001b[0m",
      "\u001b[0;31mIndexError\u001b[0m                                Traceback (most recent call last)",
      "\u001b[0;32m<ipython-input-61-57aaa3c2488d>\u001b[0m in \u001b[0;36m<module>\u001b[0;34m\u001b[0m\n\u001b[0;32m----> 1\u001b[0;31m \u001b[0msol\u001b[0m \u001b[0;34m=\u001b[0m \u001b[0mget_solution\u001b[0m\u001b[0;34m(\u001b[0m\u001b[0mb\u001b[0m\u001b[0;34m[\u001b[0m\u001b[0;36m0\u001b[0m\u001b[0;34m]\u001b[0m\u001b[0;34m,\u001b[0m\u001b[0msmr\u001b[0m\u001b[0;34m)\u001b[0m\u001b[0;34m\u001b[0m\u001b[0m\n\u001b[0m",
      "\u001b[0;32m<ipython-input-59-8bf83a0d2196>\u001b[0m in \u001b[0;36mget_solution\u001b[0;34m(sol, smr)\u001b[0m\n\u001b[1;32m      5\u001b[0m         \u001b[0mshape\u001b[0m \u001b[0;34m=\u001b[0m \u001b[0msmr\u001b[0m\u001b[0;34m[\u001b[0m\u001b[0ms\u001b[0m\u001b[0;34m[\u001b[0m\u001b[0;36m0\u001b[0m\u001b[0;34m]\u001b[0m\u001b[0;34m-\u001b[0m\u001b[0;36m1\u001b[0m\u001b[0;34m]\u001b[0m\u001b[0;34m[\u001b[0m\u001b[0ms\u001b[0m\u001b[0;34m[\u001b[0m\u001b[0;36m1\u001b[0m\u001b[0;34m]\u001b[0m\u001b[0;34m-\u001b[0m\u001b[0;36m1\u001b[0m\u001b[0;34m]\u001b[0m\u001b[0;34m\u001b[0m\u001b[0m\n\u001b[1;32m      6\u001b[0m         \u001b[0;32mfor\u001b[0m \u001b[0ms2\u001b[0m \u001b[0;32min\u001b[0m \u001b[0mshape\u001b[0m\u001b[0;34m:\u001b[0m\u001b[0;34m\u001b[0m\u001b[0m\n\u001b[0;32m----> 7\u001b[0;31m             \u001b[0mplane\u001b[0m\u001b[0;34m[\u001b[0m\u001b[0ms\u001b[0m\u001b[0;34m[\u001b[0m\u001b[0;36m2\u001b[0m\u001b[0;34m]\u001b[0m\u001b[0;34m+\u001b[0m\u001b[0ms2\u001b[0m\u001b[0;34m[\u001b[0m\u001b[0;36m0\u001b[0m\u001b[0;34m]\u001b[0m\u001b[0;34m-\u001b[0m\u001b[0;36m1\u001b[0m\u001b[0;34m,\u001b[0m\u001b[0ms\u001b[0m\u001b[0;34m[\u001b[0m\u001b[0;36m3\u001b[0m\u001b[0;34m]\u001b[0m\u001b[0;34m+\u001b[0m\u001b[0ms2\u001b[0m\u001b[0;34m[\u001b[0m\u001b[0;36m1\u001b[0m\u001b[0;34m]\u001b[0m\u001b[0;34m]\u001b[0m \u001b[0;34m=\u001b[0m \u001b[0ms\u001b[0m\u001b[0;34m[\u001b[0m\u001b[0;36m0\u001b[0m\u001b[0;34m]\u001b[0m\u001b[0;34m\u001b[0m\u001b[0m\n\u001b[0m\u001b[1;32m      8\u001b[0m     \u001b[0;32mreturn\u001b[0m \u001b[0mplane\u001b[0m\u001b[0;34m\u001b[0m\u001b[0m\n\u001b[1;32m      9\u001b[0m \u001b[0;34m\u001b[0m\u001b[0m\n",
      "\u001b[0;31mIndexError\u001b[0m: index 10 is out of bounds for axis 1 with size 10"
     ]
    }
   ],
   "source": [
    "sol = get_solution(b[0],smr)"
   ]
  },
  {
   "cell_type": "code",
   "execution_count": 62,
   "metadata": {},
   "outputs": [],
   "source": [
    "for s2 in smr[11][0]:\n",
    "    pass"
   ]
  },
  {
   "cell_type": "code",
   "execution_count": null,
   "metadata": {},
   "outputs": [],
   "source": []
  }
 ],
 "metadata": {
  "kernelspec": {
   "display_name": "Python 3",
   "language": "python",
   "name": "python3"
  },
  "language_info": {
   "codemirror_mode": {
    "name": "ipython",
    "version": 3
   },
   "file_extension": ".py",
   "mimetype": "text/x-python",
   "name": "python",
   "nbconvert_exporter": "python",
   "pygments_lexer": "ipython3",
   "version": "3.5.2"
  }
 },
 "nbformat": 4,
 "nbformat_minor": 2
}
